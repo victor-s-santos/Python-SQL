{
 "cells": [
  {
   "cell_type": "markdown",
   "metadata": {},
   "source": [
    "## Install dotenv"
   ]
  },
  {
   "cell_type": "code",
   "execution_count": 2,
   "metadata": {},
   "outputs": [
    {
     "name": "stdout",
     "output_type": "stream",
     "text": [
      "Collecting python-dotenv\n",
      "  Using cached python_dotenv-0.12.0-py2.py3-none-any.whl (17 kB)\n",
      "Installing collected packages: python-dotenv\n",
      "Successfully installed python-dotenv-0.12.0\n"
     ]
    }
   ],
   "source": [
    "import sys\n",
    "!{sys.executable} -m pip install python-dotenv"
   ]
  },
  {
   "cell_type": "markdown",
   "metadata": {},
   "source": [
    "## Install pymysql"
   ]
  },
  {
   "cell_type": "code",
   "execution_count": 5,
   "metadata": {},
   "outputs": [
    {
     "name": "stdout",
     "output_type": "stream",
     "text": [
      "\u001b[33mWARNING: Retrying (Retry(total=4, connect=None, read=None, redirect=None, status=None)) after connection broken by 'NewConnectionError('<pip._vendor.urllib3.connection.VerifiedHTTPSConnection object at 0x7faa00648e80>: Failed to establish a new connection: [Errno -3] Falha temporário na resolução de nome')': /simple/pymysql/\u001b[0m\n",
      "Collecting pymysql\n",
      "  Downloading PyMySQL-0.9.3-py2.py3-none-any.whl (47 kB)\n",
      "\u001b[K     |████████████████████████████████| 47 kB 479 kB/s eta 0:00:01\n",
      "\u001b[?25hInstalling collected packages: pymysql\n",
      "Successfully installed pymysql-0.9.3\n"
     ]
    }
   ],
   "source": [
    "import sys\n",
    "!{sys.executable} -m pip install pymysql"
   ]
  },
  {
   "cell_type": "markdown",
   "metadata": {},
   "source": [
    "## Connect to a mysql remote database"
   ]
  },
  {
   "cell_type": "code",
   "execution_count": 6,
   "metadata": {},
   "outputs": [],
   "source": [
    "import os\n",
    "import pymysql\n",
    "import dotenv\n",
    "from dotenv import load_dotenv\n",
    "load_dotenv()\n",
    "\n",
    "HOST = os.getenv('HOST')\n",
    "USER = os.getenv('MYSQL_USER')\n",
    "PASSWORD = os.getenv('MYSQL_ROOT_PASSWORD')\n",
    "DB = os.getenv('MYSQL_DATABASE')\n",
    "\n",
    "connection = pymysql.connect(host=HOST, \n",
    "                      user = USER,\n",
    "                     password = PASSWORD,\n",
    "                     db = DB)\n",
    "\n",
    "cursor = connection.cursor()"
   ]
  },
  {
   "cell_type": "markdown",
   "metadata": {},
   "source": [
    "* ## 1- How many different itens are in data_product table?"
   ]
  },
  {
   "cell_type": "code",
   "execution_count": 7,
   "metadata": {},
   "outputs": [
    {
     "data": {
      "text/plain": [
       "9994"
      ]
     },
     "execution_count": 7,
     "metadata": {},
     "output_type": "execute_result"
    }
   ],
   "source": [
    "cursor.execute(\"SELECT * FROM data_product\")"
   ]
  },
  {
   "cell_type": "markdown",
   "metadata": {},
   "source": [
    "* ## 2- What are the 10 cheapest itens in this table?"
   ]
  },
  {
   "cell_type": "code",
   "execution_count": 15,
   "metadata": {},
   "outputs": [
    {
     "data": {
      "text/plain": [
       "(('Acido Tranexamico 250mg Generico EMS 12 Comprimidos', Decimal('36.71')),\n",
       " ('Bissulfato de Clopidogrel 75mg Generico Teuto 30 Comprimidos',\n",
       "  Decimal('66.51')),\n",
       " ('Cloridrato de Amiodarona 200mg Generico Biosintetica 30 Comprimidos',\n",
       "  Decimal('31.17')),\n",
       " ('Acido Tranexâmico 250mg Generico Legrand 12 Comprimidos', Decimal('36.71')),\n",
       " ('Cloridrato Oximetazolina Adulto 5mg/ml Genérico EMS 30ml',\n",
       "  Decimal('12.08')),\n",
       " ('Carbocisteína Adulto 50mg/Ml Genérico Cimed 100ml Xarope',\n",
       "  Decimal('18.11')),\n",
       " ('Aguardente NEGA FULO TERRACOTA Garrafa 700ml', Decimal('59.90')),\n",
       " ('Guaifenesina 13,3mg/mL Genérico Xarope Sabor Cereja Neo Química 120ml',\n",
       "  Decimal('17.97')),\n",
       " ('Vinho Brasileiro Tinto Cabernet Sauvignon MARCUS JAMES Garrafa 375ml',\n",
       "  Decimal('10.90')),\n",
       " ('Carbocisteína Xarope Genérico Prati 100ml', Decimal('22.80')))"
      ]
     },
     "execution_count": 15,
     "metadata": {},
     "output_type": "execute_result"
    }
   ],
   "source": [
    "#returning the first 10 itens by the oun table order\n",
    "cursor.execute(\"SELECT product_name, product_val FROM data_product limit 10\")\n",
    "cursor.fetchall()"
   ]
  },
  {
   "cell_type": "code",
   "execution_count": 17,
   "metadata": {},
   "outputs": [
    {
     "data": {
      "text/plain": [
       "(('Sacola Reutilizavel Comum 40x40cm PAO DE ACUCAR ', Decimal('0.58')),\n",
       " ('Refresco em Po FRESH de Laranja 15g', Decimal('0.63')),\n",
       " ('Refresco em Po FRESH de Maracuja 15g', Decimal('0.63')),\n",
       " ('Lanchinho NESTLE Wafer Passatempo de Morango Pacote 20g', Decimal('0.66')),\n",
       " ('Lanchinho NESTLE Wafer Passatempo de Chocolate Pacote 20g',\n",
       "  Decimal('0.66')),\n",
       " ('Vela de Aniversario Branca Nº 7 REGINA Unidade', Decimal('0.69')),\n",
       " ('Refresco em Po FIT Light de Tangerina 10g', Decimal('0.69')),\n",
       " ('Vela de Aniversario Branca Nº 9 REGINA Unidade', Decimal('0.69')),\n",
       " ('Gelatina em Po Sabor Uva Dr. OETKER Caixa 30g', Decimal('0.79')),\n",
       " ('Gelatina em Po Sabor Pessego Dr. OETKER Caixa 30g', Decimal('0.79')))"
      ]
     },
     "execution_count": 17,
     "metadata": {},
     "output_type": "execute_result"
    }
   ],
   "source": [
    "#return this in the correct order\n",
    "cursor.execute(\"SELECT product_name, product_val FROM data_product order by product_val asc limit 10\")\n",
    "cursor.fetchall()"
   ]
  },
  {
   "cell_type": "markdown",
   "metadata": {},
   "source": [
    "* ## 2- What are the 10 most expensive itens in this table?"
   ]
  },
  {
   "cell_type": "code",
   "execution_count": 44,
   "metadata": {},
   "outputs": [
    {
     "data": {
      "text/plain": [
       "(('Whisky Escoces THE MACALLAN Ruby Garrafa 700ml com Caixa',\n",
       "  Decimal('741.99')),\n",
       " ('Whisky Escoces JOHNNIE WALKER Blue Label Garrafa 750ml', Decimal('735.90')),\n",
       " ('Cafeteira Expresso 3 CORACOES Tres Modo Vermelho', Decimal('499.00')),\n",
       " ('Vinho Portugues Tinto Vintage QUINTA DO CRASTO Garrafa 750ml',\n",
       "  Decimal('445.90')),\n",
       " ('Escova Dental Eletrica ORAL B D34 Professional Care 5000 110v',\n",
       "  Decimal('399.90')),\n",
       " ('Champagne Rose VEUVE CLICQUOT PONSARDIM Garrafa 750ml', Decimal('366.90')),\n",
       " ('Champagne Frances Brut Imperial MOET Rose Garrafa 750ml',\n",
       "  Decimal('359.90')),\n",
       " ('Conjunto de Panelas Allegra em Inox TRAMONTINA 5 Pecas Gratis Utensilios 5 Pecas',\n",
       "  Decimal('359.00')),\n",
       " ('Whisky Escoces CHIVAS REGAL 18 Anos Garrafa 750ml', Decimal('329.90')),\n",
       " ('Champagne Frances Brut Imperial MOET & CHANDON Garrafa 750ml',\n",
       "  Decimal('315.90')))"
      ]
     },
     "execution_count": 44,
     "metadata": {},
     "output_type": "execute_result"
    }
   ],
   "source": [
    "cursor.execute(\"SELECT product_name, product_val FROM data_product order by product_val desc limit 10\")\n",
    "cursor.fetchall()"
   ]
  }
 ],
 "metadata": {
  "kernelspec": {
   "display_name": "Python 3",
   "language": "python",
   "name": "python3"
  },
  "language_info": {
   "codemirror_mode": {
    "name": "ipython",
    "version": 3
   },
   "file_extension": ".py",
   "mimetype": "text/x-python",
   "name": "python",
   "nbconvert_exporter": "python",
   "pygments_lexer": "ipython3",
   "version": "3.7.0"
  }
 },
 "nbformat": 4,
 "nbformat_minor": 4
}
