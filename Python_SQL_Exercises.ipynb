{
 "cells": [
  {
   "cell_type": "markdown",
   "metadata": {},
   "source": [
    "## Install dotenv"
   ]
  },
  {
   "cell_type": "code",
   "execution_count": 2,
   "metadata": {},
   "outputs": [
    {
     "name": "stdout",
     "output_type": "stream",
     "text": [
      "Collecting python-dotenv\n",
      "  Using cached python_dotenv-0.12.0-py2.py3-none-any.whl (17 kB)\n",
      "Installing collected packages: python-dotenv\n",
      "Successfully installed python-dotenv-0.12.0\n"
     ]
    }
   ],
   "source": [
    "import sys\n",
    "!{sys.executable} -m pip install python-dotenv"
   ]
  },
  {
   "cell_type": "markdown",
   "metadata": {},
   "source": [
    "## Install pymysql"
   ]
  },
  {
   "cell_type": "code",
   "execution_count": 5,
   "metadata": {},
   "outputs": [
    {
     "name": "stdout",
     "output_type": "stream",
     "text": [
      "\u001b[33mWARNING: Retrying (Retry(total=4, connect=None, read=None, redirect=None, status=None)) after connection broken by 'NewConnectionError('<pip._vendor.urllib3.connection.VerifiedHTTPSConnection object at 0x7faa00648e80>: Failed to establish a new connection: [Errno -3] Falha temporário na resolução de nome')': /simple/pymysql/\u001b[0m\n",
      "Collecting pymysql\n",
      "  Downloading PyMySQL-0.9.3-py2.py3-none-any.whl (47 kB)\n",
      "\u001b[K     |████████████████████████████████| 47 kB 479 kB/s eta 0:00:01\n",
      "\u001b[?25hInstalling collected packages: pymysql\n",
      "Successfully installed pymysql-0.9.3\n"
     ]
    }
   ],
   "source": [
    "import sys\n",
    "!{sys.executable} -m pip install pymysql"
   ]
  },
  {
   "cell_type": "markdown",
   "metadata": {},
   "source": [
    "## Connect to a mysql remote database"
   ]
  },
  {
   "cell_type": "code",
   "execution_count": 1,
   "metadata": {},
   "outputs": [],
   "source": [
    "import os\n",
    "import pymysql\n",
    "import dotenv\n",
    "from dotenv import load_dotenv\n",
    "load_dotenv()\n",
    "\n",
    "HOST = os.getenv('HOST')\n",
    "USER = os.getenv('MYSQL_USER')\n",
    "PASSWORD = os.getenv('MYSQL_ROOT_PASSWORD')\n",
    "DB = os.getenv('MYSQL_DATABASE')\n",
    "\n",
    "connection = pymysql.connect(host=HOST, \n",
    "                      user = USER,\n",
    "                     password = PASSWORD,\n",
    "                     db = DB)\n",
    "\n",
    "cursor = connection.cursor()"
   ]
  },
  {
   "cell_type": "markdown",
   "metadata": {},
   "source": [
    "* ## 1- How many different itens are in data_product table?"
   ]
  },
  {
   "cell_type": "code",
   "execution_count": 8,
   "metadata": {},
   "outputs": [
    {
     "data": {
      "text/plain": [
       "9994"
      ]
     },
     "execution_count": 8,
     "metadata": {},
     "output_type": "execute_result"
    }
   ],
   "source": [
    "cursor.execute(\"SELECT * FROM data_product\")"
   ]
  },
  {
   "cell_type": "markdown",
   "metadata": {},
   "source": [
    "* ## 2- What are the 10 cheapest itens in this table?"
   ]
  },
  {
   "cell_type": "code",
   "execution_count": 15,
   "metadata": {},
   "outputs": [
    {
     "data": {
      "text/plain": [
       "(('Acido Tranexamico 250mg Generico EMS 12 Comprimidos', Decimal('36.71')),\n",
       " ('Bissulfato de Clopidogrel 75mg Generico Teuto 30 Comprimidos',\n",
       "  Decimal('66.51')),\n",
       " ('Cloridrato de Amiodarona 200mg Generico Biosintetica 30 Comprimidos',\n",
       "  Decimal('31.17')),\n",
       " ('Acido Tranexâmico 250mg Generico Legrand 12 Comprimidos', Decimal('36.71')),\n",
       " ('Cloridrato Oximetazolina Adulto 5mg/ml Genérico EMS 30ml',\n",
       "  Decimal('12.08')),\n",
       " ('Carbocisteína Adulto 50mg/Ml Genérico Cimed 100ml Xarope',\n",
       "  Decimal('18.11')),\n",
       " ('Aguardente NEGA FULO TERRACOTA Garrafa 700ml', Decimal('59.90')),\n",
       " ('Guaifenesina 13,3mg/mL Genérico Xarope Sabor Cereja Neo Química 120ml',\n",
       "  Decimal('17.97')),\n",
       " ('Vinho Brasileiro Tinto Cabernet Sauvignon MARCUS JAMES Garrafa 375ml',\n",
       "  Decimal('10.90')),\n",
       " ('Carbocisteína Xarope Genérico Prati 100ml', Decimal('22.80')))"
      ]
     },
     "execution_count": 15,
     "metadata": {},
     "output_type": "execute_result"
    }
   ],
   "source": [
    "#returning the first 10 itens by the oun table order\n",
    "cursor.execute(\"SELECT product_name, product_val FROM data_product limit 10\")\n",
    "cursor.fetchall()"
   ]
  },
  {
   "cell_type": "code",
   "execution_count": 17,
   "metadata": {},
   "outputs": [
    {
     "data": {
      "text/plain": [
       "(('Sacola Reutilizavel Comum 40x40cm PAO DE ACUCAR ', Decimal('0.58')),\n",
       " ('Refresco em Po FRESH de Laranja 15g', Decimal('0.63')),\n",
       " ('Refresco em Po FRESH de Maracuja 15g', Decimal('0.63')),\n",
       " ('Lanchinho NESTLE Wafer Passatempo de Morango Pacote 20g', Decimal('0.66')),\n",
       " ('Lanchinho NESTLE Wafer Passatempo de Chocolate Pacote 20g',\n",
       "  Decimal('0.66')),\n",
       " ('Vela de Aniversario Branca Nº 7 REGINA Unidade', Decimal('0.69')),\n",
       " ('Refresco em Po FIT Light de Tangerina 10g', Decimal('0.69')),\n",
       " ('Vela de Aniversario Branca Nº 9 REGINA Unidade', Decimal('0.69')),\n",
       " ('Gelatina em Po Sabor Uva Dr. OETKER Caixa 30g', Decimal('0.79')),\n",
       " ('Gelatina em Po Sabor Pessego Dr. OETKER Caixa 30g', Decimal('0.79')))"
      ]
     },
     "execution_count": 17,
     "metadata": {},
     "output_type": "execute_result"
    }
   ],
   "source": [
    "#return this in the correct order\n",
    "cursor.execute(\"SELECT product_name, product_val FROM data_product order by product_val asc limit 10\")\n",
    "cursor.fetchall()"
   ]
  },
  {
   "cell_type": "markdown",
   "metadata": {},
   "source": [
    "* ## 3- What are the 10 most expensive itens in this table?"
   ]
  },
  {
   "cell_type": "code",
   "execution_count": 44,
   "metadata": {},
   "outputs": [
    {
     "data": {
      "text/plain": [
       "(('Whisky Escoces THE MACALLAN Ruby Garrafa 700ml com Caixa',\n",
       "  Decimal('741.99')),\n",
       " ('Whisky Escoces JOHNNIE WALKER Blue Label Garrafa 750ml', Decimal('735.90')),\n",
       " ('Cafeteira Expresso 3 CORACOES Tres Modo Vermelho', Decimal('499.00')),\n",
       " ('Vinho Portugues Tinto Vintage QUINTA DO CRASTO Garrafa 750ml',\n",
       "  Decimal('445.90')),\n",
       " ('Escova Dental Eletrica ORAL B D34 Professional Care 5000 110v',\n",
       "  Decimal('399.90')),\n",
       " ('Champagne Rose VEUVE CLICQUOT PONSARDIM Garrafa 750ml', Decimal('366.90')),\n",
       " ('Champagne Frances Brut Imperial MOET Rose Garrafa 750ml',\n",
       "  Decimal('359.90')),\n",
       " ('Conjunto de Panelas Allegra em Inox TRAMONTINA 5 Pecas Gratis Utensilios 5 Pecas',\n",
       "  Decimal('359.00')),\n",
       " ('Whisky Escoces CHIVAS REGAL 18 Anos Garrafa 750ml', Decimal('329.90')),\n",
       " ('Champagne Frances Brut Imperial MOET & CHANDON Garrafa 750ml',\n",
       "  Decimal('315.90')))"
      ]
     },
     "execution_count": 44,
     "metadata": {},
     "output_type": "execute_result"
    }
   ],
   "source": [
    "cursor.execute(\"SELECT product_name, product_val FROM data_product order by product_val desc limit 10\")\n",
    "cursor.fetchall()"
   ]
  },
  {
   "cell_type": "markdown",
   "metadata": {},
   "source": [
    "* ## 3.1-What is the most expensive item and to which section does it belong?"
   ]
  },
  {
   "cell_type": "code",
   "execution_count": 7,
   "metadata": {},
   "outputs": [
    {
     "data": {
      "text/plain": [
       "(('Whisky Escoces THE MACALLAN Ruby Garrafa 700ml com Caixa',\n",
       "  'BEBIDAS',\n",
       "  Decimal('741.99')),)"
      ]
     },
     "execution_count": 7,
     "metadata": {},
     "output_type": "execute_result"
    }
   ],
   "source": [
    "cursor.execute(\"SELECT product_name, section_name, product_val FROM data_product order by product_val desc limit 1\")\n",
    "cursor.fetchall()"
   ]
  },
  {
   "cell_type": "markdown",
   "metadata": {},
   "source": [
    "* ## 4- How many sections the data_product table have?"
   ]
  },
  {
   "cell_type": "code",
   "execution_count": 18,
   "metadata": {},
   "outputs": [
    {
     "data": {
      "text/plain": [
       "44"
      ]
     },
     "execution_count": 18,
     "metadata": {},
     "output_type": "execute_result"
    }
   ],
   "source": [
    "cursor.execute(\"SELECT distinct section_name FROM data_product\")\n",
    "len(cursor.fetchall())"
   ]
  },
  {
   "cell_type": "markdown",
   "metadata": {},
   "source": [
    "* ## 4.1-What sections do the 'PERFUMARIA' and 'MERCEARIA' departments have?"
   ]
  },
  {
   "cell_type": "code",
   "execution_count": 53,
   "metadata": {},
   "outputs": [
    {
     "data": {
      "text/plain": [
       "(('PERFUMARIA',),\n",
       " ('HIGIENE BUCAL',),\n",
       " ('DESODORANTES',),\n",
       " ('PROTETORES SOLARES',))"
      ]
     },
     "execution_count": 53,
     "metadata": {},
     "output_type": "execute_result"
    }
   ],
   "source": [
    "cursor.execute(\"SELECT distinct section_name FROM data_product WHERE dep_name = 'PERFUMARIA'\")\n",
    "cursor.fetchall()"
   ]
  },
  {
   "cell_type": "code",
   "execution_count": 55,
   "metadata": {},
   "outputs": [
    {
     "data": {
      "text/plain": [
       "(('LIMPEZA',),\n",
       " ('MOLHOS-E-CONDIMENTOS',),\n",
       " ('ALIMENTOS',),\n",
       " ('MATINAIS',),\n",
       " ('BISCOITOS-E-SNACKS',),\n",
       " ('ARTIGOS-PARA-O-LAR',),\n",
       " ('ETNICOS',),\n",
       " ('MASSAS',),\n",
       " ('NATURAIS-E-FUNCIONAIS',),\n",
       " ('MARCAS-EXCLUSIVAS',),\n",
       " ('DESODORANTES',),\n",
       " ('FLORICULTURA-E-JARDINAGEM',))"
      ]
     },
     "execution_count": 55,
     "metadata": {},
     "output_type": "execute_result"
    }
   ],
   "source": [
    "cursor.execute(\"SELECT distinct section_name FROM data_product WHERE dep_name = 'MERCEARIA'\")\n",
    "cursor.fetchall()"
   ]
  },
  {
   "cell_type": "markdown",
   "metadata": {},
   "source": [
    "* ## 5. What is the average value of the items prices of data_product table"
   ]
  },
  {
   "cell_type": "code",
   "execution_count": 20,
   "metadata": {},
   "outputs": [
    {
     "data": {
      "text/plain": [
       "((Decimal('17.642484'),),)"
      ]
     },
     "execution_count": 20,
     "metadata": {},
     "output_type": "execute_result"
    }
   ],
   "source": [
    "cursor.execute(\"SELECT AVG(product_val) FROM data_product\")\n",
    "cursor.fetchall()"
   ]
  },
  {
   "cell_type": "markdown",
   "metadata": {},
   "source": [
    "* ## 5.1 What is the average value of the items prices in the data_product in the PERFUMARIA dep_name"
   ]
  },
  {
   "cell_type": "code",
   "execution_count": 35,
   "metadata": {},
   "outputs": [
    {
     "data": {
      "text/plain": [
       "(Decimal('16.102290'),)"
      ]
     },
     "execution_count": 35,
     "metadata": {},
     "output_type": "execute_result"
    }
   ],
   "source": [
    "cursor.execute(\"SELECT AVG(product_val) FROM data_product WHERE dep_name = 'PERFUMARIA'\")\n",
    "cursor.fetchone()"
   ]
  },
  {
   "cell_type": "code",
   "execution_count": 36,
   "metadata": {},
   "outputs": [
    {
     "data": {
      "text/plain": [
       "(Decimal('16.102290'),)"
      ]
     },
     "execution_count": 36,
     "metadata": {},
     "output_type": "execute_result"
    }
   ],
   "source": [
    "query = \"SELECT AVG(product_val) FROM data_product WHERE dep_name = 'PERFUMARIA'\"\n",
    "cursor.execute(query)\n",
    "cursor.fetchone()"
   ]
  },
  {
   "cell_type": "code",
   "execution_count": 38,
   "metadata": {},
   "outputs": [
    {
     "data": {
      "text/plain": [
       "(Decimal('16.102290'),)"
      ]
     },
     "execution_count": 38,
     "metadata": {},
     "output_type": "execute_result"
    }
   ],
   "source": [
    "query = \"SELECT AVG(product_val) FROM data_product WHERE dep_name = %s\"\n",
    "dep_name = 'PERFUMARIA'\n",
    "cursor.execute(query, (dep_name,))\n",
    "cursor.fetchone()"
   ]
  },
  {
   "cell_type": "markdown",
   "metadata": {},
   "source": [
    "* ## 5.2 What is the average value of the items prices in the data_product of each department"
   ]
  },
  {
   "cell_type": "code",
   "execution_count": 53,
   "metadata": {},
   "outputs": [
    {
     "data": {
      "text/plain": [
       "(('MEDICAMENTOS GENÉRICOS',),\n",
       " ('BEBIDAS',),\n",
       " ('MEDICAMENTOS REFERÊNCIA',),\n",
       " ('MERCEARIA',),\n",
       " ('PADARIA',),\n",
       " ('CARNES',),\n",
       " ('PET-SHOP',),\n",
       " ('FRIOS',),\n",
       " ('BEBES',),\n",
       " ('PERFUMARIA',),\n",
       " ('FLV',))"
      ]
     },
     "execution_count": 53,
     "metadata": {},
     "output_type": "execute_result"
    }
   ],
   "source": [
    "cursor.execute(\"SELECT distinct dep_name FROM data_product\")\n",
    "cursor.fetchall()"
   ]
  },
  {
   "cell_type": "code",
   "execution_count": 61,
   "metadata": {},
   "outputs": [
    {
     "data": {
      "text/plain": [
       "(Decimal('16.102290'),)"
      ]
     },
     "execution_count": 61,
     "metadata": {},
     "output_type": "execute_result"
    }
   ],
   "source": [
    "query = \"SELECT AVG(product_val) FROM data_product WHERE dep_name = %s\"\n",
    "dep_name = 'PERFUMARIA'\n",
    "cursor.execute(query, (dep_name,))\n",
    "cursor.fetchone()"
   ]
  },
  {
   "cell_type": "code",
   "execution_count": 64,
   "metadata": {},
   "outputs": [
    {
     "name": "stdout",
     "output_type": "stream",
     "text": [
      "MEDICAMENTOS GENÉRICOS 31.51\n",
      "BEBIDAS 28.67\n",
      "MEDICAMENTOS REFERÊNCIA 61.56\n",
      "MERCEARIA 13.83\n",
      "PADARIA 10.03\n",
      "CARNES 22.48\n",
      "PET-SHOP 15.83\n",
      "FRIOS 17.69\n",
      "BEBES 39.44\n",
      "PERFUMARIA 16.1\n",
      "FLV 11.18\n"
     ]
    }
   ],
   "source": [
    "dep_names_list = [\n",
    "    'MEDICAMENTOS GENÉRICOS',\n",
    "    'BEBIDAS',\n",
    "    'MEDICAMENTOS REFERÊNCIA',\n",
    "    'MERCEARIA',\n",
    "    'PADARIA',\n",
    "    'CARNES',\n",
    "    'PET-SHOP',\n",
    "    'FRIOS',\n",
    "    'BEBES',\n",
    "    'PERFUMARIA',\n",
    "    'FLV'\n",
    "]\n",
    "\n",
    "query = \"SELECT AVG(product_val) FROM data_product WHERE dep_name = %s\"\n",
    "for i in range(len(dep_names_list)):\n",
    "    cursor.execute(query, (dep_names_list[i],))\n",
    "    print(dep_names_list[i], round(float(cursor.fetchone()[0]), 2))"
   ]
  },
  {
   "cell_type": "markdown",
   "metadata": {},
   "source": [
    "* ## 6. When did the best sales period occur? In which store? "
   ]
  },
  {
   "cell_type": "code",
   "execution_count": 60,
   "metadata": {},
   "outputs": [
    {
     "data": {
      "text/plain": [
       "(10, 117868.78)"
      ]
     },
     "execution_count": 60,
     "metadata": {},
     "output_type": "execute_result"
    }
   ],
   "source": [
    "cursor.execute(\"SELECT STORE_CODE, SALES_VALUE FROM data_store_sales order by SALES_VALUE desc limit 1\")\n",
    "cursor.fetchone()\n",
    "\"\"\"Now I need to go to data_store_cad table to get the store_name by the store_code\"\"\""
   ]
  },
  {
   "cell_type": "code",
   "execution_count": 63,
   "metadata": {},
   "outputs": [
    {
     "data": {
      "text/plain": [
       "(('Sao Paulo', 29288.04),\n",
       " ('Sao Paulo', 30676.19),\n",
       " ('Sao Paulo', 59886.64),\n",
       " ('Sao Paulo', 42563.69),\n",
       " ('Sao Paulo', 43712.54),\n",
       " ('Sao Paulo', 34762.72),\n",
       " ('Sao Paulo', 28411.01),\n",
       " ('Sao Paulo', 30144.47),\n",
       " ('Sao Paulo', 33870.23),\n",
       " ('Sao Paulo', 51351.82),\n",
       " ('Sao Paulo', 46361.26),\n",
       " ('Sao Paulo', 39391.59),\n",
       " ('Sao Paulo', 38065.81),\n",
       " ('Sao Paulo', 28000.69),\n",
       " ('Sao Paulo', 26918.18),\n",
       " ('Sao Paulo', 33199.68),\n",
       " ('Sao Paulo', 54215.99),\n",
       " ('Sao Paulo', 44963.32),\n",
       " ('Sao Paulo', 40065.64),\n",
       " ('Sao Paulo', 35818.04),\n",
       " ('Sao Paulo', 28458.98),\n",
       " ('Sao Paulo', 29362.13),\n",
       " ('Sao Paulo', 32815.36),\n",
       " ('Sao Paulo', 60180.98),\n",
       " ('Sao Paulo', 43071.03),\n",
       " ('Sao Paulo', 42065.17),\n",
       " ('Sao Paulo', 37162.61),\n",
       " ('Sao Paulo', 29908.36),\n",
       " ('Sao Paulo', 28518.33),\n",
       " ('Sao Paulo', 29107.02),\n",
       " ('Sao Paulo', 61350.6),\n",
       " ('Sao Paulo', 47964.56),\n",
       " ('Sao Paulo', 45890.82),\n",
       " ('Sao Paulo', 36939.8),\n",
       " ('Sao Paulo', 29593.02),\n",
       " ('Sao Paulo', 27114.41),\n",
       " ('Sao Paulo', 34396.42),\n",
       " ('Sao Paulo', 59902.88),\n",
       " ('Sao Paulo', 48995.27),\n",
       " ('Sao Paulo', 44958.48),\n",
       " ('Sao Paulo', 35859.73),\n",
       " ('Sao Paulo', 32081.2),\n",
       " ('Sao Paulo', 27876.28),\n",
       " ('Sao Paulo', 31739.1),\n",
       " ('Sao Paulo', 59378.46),\n",
       " ('Sao Paulo', 43137.98),\n",
       " ('Sao Paulo', 43235.41),\n",
       " ('Sao Paulo', 39697.64),\n",
       " ('Sao Paulo', 31843.13),\n",
       " ('Sao Paulo', 27389.35),\n",
       " ('Sao Paulo', 34205.73),\n",
       " ('Sao Paulo', 61604.21),\n",
       " ('Sao Paulo', 45528.49),\n",
       " ('Sao Paulo', 45455.07),\n",
       " ('Sao Paulo', 40125.16),\n",
       " ('Sao Paulo', 31562.92),\n",
       " ('Sao Paulo', 27805.92),\n",
       " ('Sao Paulo', 32957.71),\n",
       " ('Sao Paulo', 60602.08),\n",
       " ('Sao Paulo', 47923.72),\n",
       " ('Sao Paulo', 39781.11),\n",
       " ('Sao Paulo', 36428.75),\n",
       " ('Sao Paulo', 30455.12),\n",
       " ('Sao Paulo', 29103.61),\n",
       " ('Sao Paulo', 34571.78),\n",
       " ('Sao Paulo', 59421.25),\n",
       " ('Sao Paulo', 48168.1),\n",
       " ('Sao Paulo', 45454.21),\n",
       " ('Sao Paulo', 35871.95),\n",
       " ('Sao Paulo', 28216.26),\n",
       " ('Sao Paulo', 28840.5),\n",
       " ('Sao Paulo', 36050.32),\n",
       " ('Sao Paulo', 59707.47),\n",
       " ('Sao Paulo', 45074.88),\n",
       " ('Sao Paulo', 42192.46),\n",
       " ('Sao Paulo', 38534.1),\n",
       " ('Sao Paulo', 32388.11),\n",
       " ('Sao Paulo', 28108.31),\n",
       " ('Sao Paulo', 35274.76),\n",
       " ('Sao Paulo', 57264.85),\n",
       " ('Sao Paulo', 48617.47),\n",
       " ('Sao Paulo', 43479.24),\n",
       " ('Sao Paulo', 34287.11),\n",
       " ('Sao Paulo', 31349.73),\n",
       " ('Sao Paulo', 31171.8),\n",
       " ('Sao Paulo', 36357.21),\n",
       " ('Sao Paulo', 59126.98),\n",
       " ('Sao Paulo', 52716.42),\n",
       " ('Sao Paulo', 49502.07),\n",
       " ('Sao Paulo', 40748.85),\n",
       " ('Sao Paulo', 29644.65),\n",
       " ('Sao Paulo', 30622.87),\n",
       " ('Sao Paulo', 31391.32),\n",
       " ('Sao Paulo', 60457.01),\n",
       " ('Sao Paulo', 47004.28),\n",
       " ('Sao Paulo', 40215.16),\n",
       " ('Sao Paulo', 40738.06),\n",
       " ('Sao Paulo', 31292.85),\n",
       " ('Sao Paulo', 27506.08),\n",
       " ('Sao Paulo', 35435.1),\n",
       " ('Sao Paulo', 58351.45),\n",
       " ('Sao Paulo', 48526.3),\n",
       " ('Sao Paulo', 46608.76),\n",
       " ('Sao Paulo', 35336.6),\n",
       " ('Sao Paulo', 30101.37),\n",
       " ('Sao Paulo', 30198.95),\n",
       " ('Sao Paulo', 35930.49),\n",
       " ('Sao Paulo', 59024.05),\n",
       " ('Sao Paulo', 49915.38),\n",
       " ('Sao Paulo', 43557.51),\n",
       " ('Sao Paulo', 37883.44),\n",
       " ('Sao Paulo', 30733.6),\n",
       " ('Sao Paulo', 29957.57),\n",
       " ('Sao Paulo', 32511.11),\n",
       " ('Sao Paulo', 57162.68),\n",
       " ('Sao Paulo', 51261.1),\n",
       " ('Sao Paulo', 44612.28),\n",
       " ('Sao Paulo', 37341.17),\n",
       " ('Sao Paulo', 32646.23),\n",
       " ('Sao Paulo', 30168.97),\n",
       " ('Sao Paulo', 32796.19),\n",
       " ('Sao Paulo', 60701.15),\n",
       " ('Sao Paulo', 52662.75),\n",
       " ('Sao Paulo', 39920.78),\n",
       " ('Sao Paulo', 38565.96),\n",
       " ('Sao Paulo', 32545.48),\n",
       " ('Sao Paulo', 30768.7),\n",
       " ('Sao Paulo', 34039.54),\n",
       " ('Sao Paulo', 58514.31),\n",
       " ('Sao Paulo', 47563.96),\n",
       " ('Sao Paulo', 46367.25),\n",
       " ('Sao Paulo', 39471.37),\n",
       " ('Sao Paulo', 31589.81),\n",
       " ('Sao Paulo', 30614.75),\n",
       " ('Sao Paulo', 33991.61),\n",
       " ('Sao Paulo', 61261.96),\n",
       " ('Sao Paulo', 44726.52),\n",
       " ('Sao Paulo', 45825.82),\n",
       " ('Sao Paulo', 39904.21),\n",
       " ('Sao Paulo', 29512.67),\n",
       " ('Sao Paulo', 28433.1),\n",
       " ('Sao Paulo', 34314.82),\n",
       " ('Sao Paulo', 60334.8),\n",
       " ('Sao Paulo', 49762.54),\n",
       " ('Sao Paulo', 44955.6),\n",
       " ('Sao Paulo', 38571.82),\n",
       " ('Sao Paulo', 32092.0),\n",
       " ('Sao Paulo', 30058.26),\n",
       " ('Sao Paulo', 34732.47),\n",
       " ('Sao Paulo', 59417.9),\n",
       " ('Sao Paulo', 48000.97),\n",
       " ('Sao Paulo', 46169.96),\n",
       " ('Sao Paulo', 39213.52),\n",
       " ('Sao Paulo', 32833.38),\n",
       " ('Sao Paulo', 29214.27),\n",
       " ('Sao Paulo', 34865.24),\n",
       " ('Sao Paulo', 58260.57),\n",
       " ('Sao Paulo', 50551.0),\n",
       " ('Sao Paulo', 47550.83),\n",
       " ('Sao Paulo', 36161.65),\n",
       " ('Sao Paulo', 32764.83),\n",
       " ('Sao Paulo', 31403.4),\n",
       " ('Sao Paulo', 36358.88),\n",
       " ('Sao Paulo', 59588.58),\n",
       " ('Sao Paulo', 49092.28),\n",
       " ('Sao Paulo', 49190.13),\n",
       " ('Sao Paulo', 34632.57),\n",
       " ('Sao Paulo', 33432.04),\n",
       " ('Sao Paulo', 28916.9),\n",
       " ('Sao Paulo', 38050.91),\n",
       " ('Sao Paulo', 54581.27),\n",
       " ('Sao Paulo', 49320.47),\n",
       " ('Sao Paulo', 49394.5),\n",
       " ('Sao Paulo', 38884.99),\n",
       " ('Sao Paulo', 31756.23),\n",
       " ('Sao Paulo', 32851.28),\n",
       " ('Sao Paulo', 35615.34),\n",
       " ('Sao Paulo', 60605.5),\n",
       " ('Sao Paulo', 52475.03),\n",
       " ('Sao Paulo', 45469.96),\n",
       " ('Sao Paulo', 40216.69),\n",
       " ('Sao Paulo', 34352.22),\n",
       " ('Sao Paulo', 30666.14),\n",
       " ('Sao Paulo', 34248.31),\n",
       " ('Sao Paulo', 61258.6),\n",
       " ('Sao Paulo', 51155.82),\n",
       " ('Sao Paulo', 47971.09),\n",
       " ('Sao Paulo', 38942.79),\n",
       " ('Sao Paulo', 31554.03),\n",
       " ('Sao Paulo', 31855.8),\n",
       " ('Sao Paulo', 35255.69),\n",
       " ('Sao Paulo', 60717.61),\n",
       " ('Sao Paulo', 48046.9),\n",
       " ('Sao Paulo', 45346.31),\n",
       " ('Sao Paulo', 42515.75),\n",
       " ('Sao Paulo', 32068.7),\n",
       " ('Sao Paulo', 34866.02),\n",
       " ('Sao Paulo', 37168.94),\n",
       " ('Sao Paulo', 59007.97),\n",
       " ('Sao Paulo', 49123.63),\n",
       " ('Sao Paulo', 45770.05),\n",
       " ('Sao Paulo', 38065.36),\n",
       " ('Sao Paulo', 30370.05),\n",
       " ('Sao Paulo', 30751.93),\n",
       " ('Sao Paulo', 37126.28),\n",
       " ('Sao Paulo', 57748.63),\n",
       " ('Sao Paulo', 50599.54),\n",
       " ('Sao Paulo', 50246.06),\n",
       " ('Sao Paulo', 40091.39),\n",
       " ('Sao Paulo', 31306.91),\n",
       " ('Sao Paulo', 29521.93),\n",
       " ('Sao Paulo', 39529.19),\n",
       " ('Sao Paulo', 58818.87),\n",
       " ('Sao Paulo', 51054.28),\n",
       " ('Sao Paulo', 45567.47),\n",
       " ('Sao Paulo', 37281.89),\n",
       " ('Sao Paulo', 34090.26),\n",
       " ('Sao Paulo', 31448.35),\n",
       " ('Sao Paulo', 31477.63),\n",
       " ('Sao Paulo', 58900.87),\n",
       " ('Sao Paulo', 50680.08),\n",
       " ('Sao Paulo', 46984.13),\n",
       " ('Sao Paulo', 39449.38),\n",
       " ('Sao Paulo', 30076.17),\n",
       " ('Sao Paulo', 29623.66),\n",
       " ('Sao Paulo', 36656.75),\n",
       " ('Sao Paulo', 57785.81),\n",
       " ('Sao Paulo', 52882.26),\n",
       " ('Sao Paulo', 52555.0),\n",
       " ('Sao Paulo', 41980.97),\n",
       " ('Sao Paulo', 31093.47),\n",
       " ('Sao Paulo', 28497.67),\n",
       " ('Sao Paulo', 37731.55),\n",
       " ('Sao Paulo', 63340.22),\n",
       " ('Sao Paulo', 49082.32),\n",
       " ('Sao Paulo', 47486.81),\n",
       " ('Sao Paulo', 41339.55),\n",
       " ('Sao Paulo', 31880.44),\n",
       " ('Sao Paulo', 32929.54),\n",
       " ('Sao Paulo', 35384.39),\n",
       " ('Sao Paulo', 59865.02),\n",
       " ('Sao Paulo', 50489.61),\n",
       " ('Sao Paulo', 45716.46),\n",
       " ('Sao Paulo', 40975.37),\n",
       " ('Sao Paulo', 32744.94),\n",
       " ('Sao Paulo', 31380.5),\n",
       " ('Sao Paulo', 35405.59),\n",
       " ('Sao Paulo', 63007.06),\n",
       " ('Sao Paulo', 46696.17),\n",
       " ('Sao Paulo', 48509.75),\n",
       " ('Sao Paulo', 40525.74),\n",
       " ('Sao Paulo', 34458.6),\n",
       " ('Sao Paulo', 31208.25),\n",
       " ('Sao Paulo', 35178.01),\n",
       " ('Sao Paulo', 63890.29),\n",
       " ('Sao Paulo', 52508.03),\n",
       " ('Sao Paulo', 47889.13),\n",
       " ('Sao Paulo', 38588.1),\n",
       " ('Sao Paulo', 35482.48),\n",
       " ('Sao Paulo', 32165.22),\n",
       " ('Sao Paulo', 35295.15),\n",
       " ('Sao Paulo', 64602.96),\n",
       " ('Sao Paulo', 51309.75),\n",
       " ('Sao Paulo', 50585.7),\n",
       " ('Sao Paulo', 34845.34),\n",
       " ('Sao Paulo', 33580.29),\n",
       " ('Sao Paulo', 30850.01),\n",
       " ('Sao Paulo', 37126.15),\n",
       " ('Sao Paulo', 61846.35),\n",
       " ('Sao Paulo', 55068.58),\n",
       " ('Sao Paulo', 48407.43),\n",
       " ('Sao Paulo', 40427.49),\n",
       " ('Sao Paulo', 31024.96),\n",
       " ('Sao Paulo', 30761.2),\n",
       " ('Sao Paulo', 35937.01),\n",
       " ('Sao Paulo', 62139.22),\n",
       " ('Sao Paulo', 51091.0),\n",
       " ('Sao Paulo', 52456.63),\n",
       " ('Sao Paulo', 40663.69),\n",
       " ('Sao Paulo', 32313.12),\n",
       " ('Sao Paulo', 30546.12),\n",
       " ('Sao Paulo', 38771.32),\n",
       " ('Sao Paulo', 60201.61),\n",
       " ('Sao Paulo', 50652.36),\n",
       " ('Sao Paulo', 49833.77),\n",
       " ('Sao Paulo', 39148.52),\n",
       " ('Sao Paulo', 32102.26),\n",
       " ('Sao Paulo', 33302.8),\n",
       " ('Sao Paulo', 37211.68),\n",
       " ('Sao Paulo', 62245.79),\n",
       " ('Sao Paulo', 52503.61),\n",
       " ('Sao Paulo', 44011.86),\n",
       " ('Sao Paulo', 41013.9),\n",
       " ('Sao Paulo', 31879.41),\n",
       " ('Sao Paulo', 31601.14),\n",
       " ('Sao Paulo', 35893.37),\n",
       " ('Sao Paulo', 65665.85),\n",
       " ('Sao Paulo', 51465.96),\n",
       " ('Sao Paulo', 49615.75),\n",
       " ('Sao Paulo', 43422.02),\n",
       " ('Sao Paulo', 36840.07),\n",
       " ('Sao Paulo', 32519.75),\n",
       " ('Sao Paulo', 37334.08),\n",
       " ('Sao Paulo', 61793.51),\n",
       " ('Sao Paulo', 50526.18),\n",
       " ('Sao Paulo', 45671.48),\n",
       " ('Sao Paulo', 47205.15),\n",
       " ('Sao Paulo', 30325.14),\n",
       " ('Sao Paulo', 34235.73),\n",
       " ('Sao Paulo', 34549.08),\n",
       " ('Sao Paulo', 60931.81),\n",
       " ('Sao Paulo', 53300.35),\n",
       " ('Sao Paulo', 50453.58),\n",
       " ('Sao Paulo', 44150.9),\n",
       " ('Sao Paulo', 34690.83),\n",
       " ('Sao Paulo', 33120.88),\n",
       " ('Sao Paulo', 32209.05),\n",
       " ('Sao Paulo', 66396.56),\n",
       " ('Sao Paulo', 47783.35),\n",
       " ('Sao Paulo', 52297.97),\n",
       " ('Sao Paulo', 36352.49),\n",
       " ('Sao Paulo', 33725.99),\n",
       " ('Sao Paulo', 31861.29),\n",
       " ('Sao Paulo', 39702.11),\n",
       " ('Sao Paulo', 62940.31),\n",
       " ('Sao Paulo', 53217.83),\n",
       " ('Sao Paulo', 51180.21),\n",
       " ('Sao Paulo', 40702.1),\n",
       " ('Sao Paulo', 31470.16),\n",
       " ('Sao Paulo', 32071.88),\n",
       " ('Sao Paulo', 36407.48),\n",
       " ('Sao Paulo', 66515.37),\n",
       " ('Sao Paulo', 53345.73),\n",
       " ('Sao Paulo', 51012.25),\n",
       " ('Sao Paulo', 42413.51),\n",
       " ('Sao Paulo', 34716.41),\n",
       " ('Sao Paulo', 31400.38),\n",
       " ('Sao Paulo', 38290.27),\n",
       " ('Sao Paulo', 63629.62),\n",
       " ('Sao Paulo', 54371.21),\n",
       " ('Sao Paulo', 49414.73),\n",
       " ('Sao Paulo', 40399.21),\n",
       " ('Sao Paulo', 33638.89),\n",
       " ('Sao Paulo', 29374.17),\n",
       " ('Sao Paulo', 39007.75),\n",
       " ('Sao Paulo', 65271.15),\n",
       " ('Sao Paulo', 53078.53),\n",
       " ('Sao Paulo', 50354.26),\n",
       " ('Sao Paulo', 38709.59),\n",
       " ('Sao Paulo', 35012.32),\n",
       " ('Sao Paulo', 32862.4),\n",
       " ('Sao Paulo', 38192.4),\n",
       " ('Sao Paulo', 66647.87),\n",
       " ('Sao Paulo', 52036.81),\n",
       " ('Sao Paulo', 51163.76),\n",
       " ('Sao Paulo', 35482.05),\n",
       " ('Sao Paulo', 35001.98),\n",
       " ('Sao Paulo', 30567.69),\n",
       " ('Sao Paulo', 37769.12),\n",
       " ('Sao Paulo', 69204.51),\n",
       " ('Sao Paulo', 55182.64),\n",
       " ('Sao Paulo', 45769.09),\n",
       " ('Sao Paulo', 43109.06),\n",
       " ('Sao Paulo', 37870.5),\n",
       " ('Sao Paulo', 33252.46),\n",
       " ('Sao Paulo', 36258.76),\n",
       " ('Sao Paulo', 61685.91),\n",
       " ('Sao Paulo', 53639.55),\n",
       " ('Sao Paulo', 49993.93),\n",
       " ('Sao Paulo', 42048.09),\n",
       " ('Sao Paulo', 35735.53),\n",
       " ('Sao Paulo', 31734.85),\n",
       " ('Sao Paulo', 36966.58),\n",
       " ('Sao Paulo', 63453.77),\n",
       " ('Sao Paulo', 50230.4),\n",
       " ('Sao Paulo', 52256.44),\n",
       " ('Sao Paulo', 41227.04),\n",
       " ('Sao Paulo', 34625.16),\n",
       " ('Sao Paulo', 32585.76),\n",
       " ('Sao Paulo', 39161.24),\n",
       " ('Sao Paulo', 63917.11),\n",
       " ('Sao Paulo', 53002.25),\n",
       " ('Sao Paulo', 51444.63),\n",
       " ('Sao Paulo', 39035.12),\n",
       " ('Sao Paulo', 34790.12),\n",
       " ('Sao Paulo', 30646.94),\n",
       " ('Sao Paulo', 35148.19),\n",
       " ('Sao Paulo', 61149.87),\n",
       " ('Sao Paulo', 50800.23),\n",
       " ('Sao Paulo', 52790.96),\n",
       " ('Sao Paulo', 41751.43),\n",
       " ('Sao Paulo', 33052.15),\n",
       " ('Sao Paulo', 32281.44),\n",
       " ('Sao Paulo', 39044.07),\n",
       " ('Sao Paulo', 60261.42),\n",
       " ('Sao Paulo', 51455.93),\n",
       " ('Sao Paulo', 52725.74),\n",
       " ('Sao Paulo', 42879.48),\n",
       " ('Sao Paulo', 33049.1),\n",
       " ('Sao Paulo', 30580.18),\n",
       " ('Sao Paulo', 41332.67),\n",
       " ('Sao Paulo', 68935.78),\n",
       " ('Sao Paulo', 55203.03),\n",
       " ('Sao Paulo', 53400.16),\n",
       " ('Sao Paulo', 38166.18),\n",
       " ('Sao Paulo', 36470.01),\n",
       " ('Sao Paulo', 31441.59),\n",
       " ('Sao Paulo', 36259.52),\n",
       " ('Sao Paulo', 62134.82),\n",
       " ('Sao Paulo', 53089.36),\n",
       " ('Sao Paulo', 43428.83),\n",
       " ('Sao Paulo', 45360.11),\n",
       " ('Sao Paulo', 36471.55),\n",
       " ('Sao Paulo', 32395.89),\n",
       " ('Sao Paulo', 35400.33),\n",
       " ('Sao Paulo', 66503.07),\n",
       " ('Sao Paulo', 55825.52),\n",
       " ('Sao Paulo', 49439.69),\n",
       " ('Sao Paulo', 42263.3),\n",
       " ('Sao Paulo', 33553.32),\n",
       " ('Sao Paulo', 34022.91),\n",
       " ('Sao Paulo', 34178.16),\n",
       " ('Sao Paulo', 69667.95),\n",
       " ('Sao Paulo', 51978.56),\n",
       " ('Sao Paulo', 47102.61),\n",
       " ('Sao Paulo', 42419.04),\n",
       " ('Sao Paulo', 35376.87),\n",
       " ('Sao Paulo', 33904.77),\n",
       " ('Sao Paulo', 41252.55),\n",
       " ('Sao Paulo', 57883.87),\n",
       " ('Sao Paulo', 58644.98),\n",
       " ('Sao Paulo', 55674.02),\n",
       " ('Sao Paulo', 43864.57),\n",
       " ('Sao Paulo', 34396.35),\n",
       " ('Sao Paulo', 32172.5),\n",
       " ('Sao Paulo', 35627.18),\n",
       " ('Sao Paulo', 60029.35),\n",
       " ('Sao Paulo', 52758.02),\n",
       " ('Sao Paulo', 55515.11),\n",
       " ('Sao Paulo', 43719.61),\n",
       " ('Sao Paulo', 34745.29),\n",
       " ('Sao Paulo', 32048.87),\n",
       " ('Sao Paulo', 37654.9),\n",
       " ('Sao Paulo', 67931.02),\n",
       " ('Sao Paulo', 51684.87),\n",
       " ('Sao Paulo', 55158.31),\n",
       " ('Sao Paulo', 40758.67),\n",
       " ('Sao Paulo', 36437.52),\n",
       " ('Sao Paulo', 33360.15),\n",
       " ('Sao Paulo', 37411.72),\n",
       " ('Sao Paulo', 63039.21),\n",
       " ('Sao Paulo', 53030.33),\n",
       " ('Sao Paulo', 49511.46),\n",
       " ('Sao Paulo', 44127.35),\n",
       " ('Sao Paulo', 35786.03),\n",
       " ('Sao Paulo', 32922.5),\n",
       " ('Sao Paulo', 38048.61),\n",
       " ('Sao Paulo', 67830.92),\n",
       " ('Sao Paulo', 51980.55),\n",
       " ('Sao Paulo', 50795.4),\n",
       " ('Sao Paulo', 40819.1),\n",
       " ('Sao Paulo', 35209.76),\n",
       " ('Sao Paulo', 31677.09),\n",
       " ('Sao Paulo', 37148.71),\n",
       " ('Sao Paulo', 63221.47),\n",
       " ('Sao Paulo', 51497.43),\n",
       " ('Sao Paulo', 55743.1),\n",
       " ('Sao Paulo', 43339.97),\n",
       " ('Sao Paulo', 33399.92),\n",
       " ('Sao Paulo', 32636.35),\n",
       " ('Sao Paulo', 38072.75),\n",
       " ('Sao Paulo', 74526.37),\n",
       " ('Sao Paulo', 51863.68),\n",
       " ('Sao Paulo', 49322.48),\n",
       " ('Sao Paulo', 42345.15),\n",
       " ('Sao Paulo', 35966.07),\n",
       " ('Sao Paulo', 34829.43),\n",
       " ('Sao Paulo', 39443.93),\n",
       " ('Sao Paulo', 71264.99),\n",
       " ('Sao Paulo', 50389.13),\n",
       " ('Sao Paulo', 54907.58),\n",
       " ('Sao Paulo', 46967.85),\n",
       " ('Sao Paulo', 36783.51),\n",
       " ('Sao Paulo', 35166.22),\n",
       " ('Sao Paulo', 42324.99),\n",
       " ('Sao Paulo', 72755.34),\n",
       " ('Sao Paulo', 52700.29),\n",
       " ('Sao Paulo', 53916.02),\n",
       " ('Sao Paulo', 45346.96),\n",
       " ('Sao Paulo', 37268.97),\n",
       " ('Sao Paulo', 35022.22),\n",
       " ('Sao Paulo', 39083.42),\n",
       " ('Sao Paulo', 65952.61),\n",
       " ('Sao Paulo', 53054.15),\n",
       " ('Sao Paulo', 51224.17),\n",
       " ('Sao Paulo', 43548.44),\n",
       " ('Sao Paulo', 37856.73),\n",
       " ('Sao Paulo', 34890.97),\n",
       " ('Sao Paulo', 42348.62),\n",
       " ('Sao Paulo', 72057.06),\n",
       " ('Sao Paulo', 50262.87),\n",
       " ('Sao Paulo', 48815.59),\n",
       " ('Sao Paulo', 43289.07),\n",
       " ('Sao Paulo', 37553.76),\n",
       " ('Sao Paulo', 35123.17),\n",
       " ('Sao Paulo', 35788.19),\n",
       " ('Sao Paulo', 68650.73),\n",
       " ('Sao Paulo', 54567.55),\n",
       " ('Sao Paulo', 51908.04),\n",
       " ('Sao Paulo', 43796.35),\n",
       " ('Sao Paulo', 36681.35),\n",
       " ('Sao Paulo', 35668.98),\n",
       " ('Sao Paulo', 40763.05),\n",
       " ('Sao Paulo', 63451.03),\n",
       " ('Sao Paulo', 55798.92),\n",
       " ('Sao Paulo', 53710.65),\n",
       " ('Sao Paulo', 41112.4),\n",
       " ('Sao Paulo', 38841.97),\n",
       " ('Sao Paulo', 33564.21),\n",
       " ('Sao Paulo', 40552.42),\n",
       " ('Sao Paulo', 68358.44),\n",
       " ('Sao Paulo', 57115.02),\n",
       " ('Sao Paulo', 52466.85),\n",
       " ('Sao Paulo', 42384.43),\n",
       " ('Sao Paulo', 38652.62),\n",
       " ('Sao Paulo', 35045.81),\n",
       " ('Sao Paulo', 40646.98),\n",
       " ('Sao Paulo', 73472.99),\n",
       " ('Sao Paulo', 45678.66),\n",
       " ('Sao Paulo', 52589.71),\n",
       " ('Sao Paulo', 45175.29),\n",
       " ('Sao Paulo', 37442.73),\n",
       " ('Sao Paulo', 33668.48),\n",
       " ('Sao Paulo', 42341.99),\n",
       " ('Sao Paulo', 70958.5),\n",
       " ('Sao Paulo', 56770.22),\n",
       " ('Sao Paulo', 56088.99),\n",
       " ('Sao Paulo', 44353.69),\n",
       " ('Sao Paulo', 36498.85),\n",
       " ('Sao Paulo', 31364.5),\n",
       " ('Sao Paulo', 41002.04),\n",
       " ('Sao Paulo', 69261.87),\n",
       " ('Sao Paulo', 49400.31),\n",
       " ('Sao Paulo', 51903.47),\n",
       " ('Sao Paulo', 44672.38),\n",
       " ('Sao Paulo', 34013.98),\n",
       " ('Sao Paulo', 36167.43),\n",
       " ('Sao Paulo', 38376.83),\n",
       " ('Sao Paulo', 71644.71),\n",
       " ('Sao Paulo', 58149.63),\n",
       " ('Sao Paulo', 51751.04),\n",
       " ('Sao Paulo', 44180.42),\n",
       " ('Sao Paulo', 36322.73),\n",
       " ('Sao Paulo', 33901.65),\n",
       " ('Sao Paulo', 39744.07),\n",
       " ('Sao Paulo', 59668.84),\n",
       " ('Sao Paulo', 56813.29),\n",
       " ('Sao Paulo', 54862.23),\n",
       " ('Sao Paulo', 46917.97),\n",
       " ('Sao Paulo', 37136.34),\n",
       " ('Sao Paulo', 31347.42),\n",
       " ('Sao Paulo', 41715.41),\n",
       " ('Sao Paulo', 66143.84),\n",
       " ('Sao Paulo', 59204.69),\n",
       " ('Sao Paulo', 53482.48),\n",
       " ('Sao Paulo', 42669.36),\n",
       " ('Sao Paulo', 38131.42),\n",
       " ('Sao Paulo', 36733.73),\n",
       " ('Sao Paulo', 39610.91),\n",
       " ('Sao Paulo', 70804.72),\n",
       " ('Sao Paulo', 54675.72),\n",
       " ('Sao Paulo', 54001.9),\n",
       " ('Sao Paulo', 44532.39),\n",
       " ('Sao Paulo', 38410.87),\n",
       " ('Sao Paulo', 33320.28),\n",
       " ('Sao Paulo', 40530.02),\n",
       " ('Sao Paulo', 66627.2),\n",
       " ('Sao Paulo', 58496.74),\n",
       " ('Sao Paulo', 54219.43),\n",
       " ('Sao Paulo', 46614.14),\n",
       " ('Sao Paulo', 35539.03),\n",
       " ('Sao Paulo', 34163.81),\n",
       " ('Sao Paulo', 42847.36),\n",
       " ('Sao Paulo', 66550.06),\n",
       " ('Sao Paulo', 52822.91),\n",
       " ('Sao Paulo', 52920.82),\n",
       " ('Sao Paulo', 47266.83),\n",
       " ('Sao Paulo', 35239.11),\n",
       " ('Sao Paulo', 33868.07),\n",
       " ('Sao Paulo', 44122.77),\n",
       " ('Sao Paulo', 77082.95),\n",
       " ('Sao Paulo', 55108.58),\n",
       " ('Sao Paulo', 53931.4),\n",
       " ('Sao Paulo', 45456.6),\n",
       " ('Sao Paulo', 39643.81),\n",
       " ('Sao Paulo', 36836.5),\n",
       " ('Sao Paulo', 42042.43),\n",
       " ('Sao Paulo', 70608.88),\n",
       " ('Sao Paulo', 54813.41),\n",
       " ('Sao Paulo', 53008.02),\n",
       " ('Sao Paulo', 49421.4),\n",
       " ('Sao Paulo', 38205.95),\n",
       " ('Sao Paulo', 33919.48),\n",
       " ('Sao Paulo', 43711.26),\n",
       " ('Sao Paulo', 74730.23),\n",
       " ('Sao Paulo', 62016.98),\n",
       " ('Sao Paulo', 52145.75),\n",
       " ('Sao Paulo', 50607.47),\n",
       " ('Sao Paulo', 38142.94),\n",
       " ('Sao Paulo', 36925.32),\n",
       " ('Sao Paulo', 41349.55),\n",
       " ('Sao Paulo', 73012.22),\n",
       " ('Sao Paulo', 57928.99),\n",
       " ('Sao Paulo', 52522.4),\n",
       " ('Sao Paulo', 44447.09),\n",
       " ('Sao Paulo', 36161.02),\n",
       " ('Sao Paulo', 36554.52),\n",
       " ('Sao Paulo', 39992.03),\n",
       " ('Sao Paulo', 73739.81),\n",
       " ('Sao Paulo', 59456.52),\n",
       " ('Sao Paulo', 53619.51),\n",
       " ('Sao Paulo', 44124.6),\n",
       " ('Sao Paulo', 36754.49),\n",
       " ('Sao Paulo', 37850.17),\n",
       " ('Sao Paulo', 42005.28),\n",
       " ('Sao Paulo', 78277.86),\n",
       " ('Sao Paulo', 59456.85),\n",
       " ('Sao Paulo', 59103.4),\n",
       " ('Sao Paulo', 46920.42),\n",
       " ('Sao Paulo', 35452.39),\n",
       " ('Sao Paulo', 36334.35),\n",
       " ('Sao Paulo', 45654.75),\n",
       " ('Sao Paulo', 81700.07),\n",
       " ('Sao Paulo', 55720.49),\n",
       " ('Sao Paulo', 54291.82),\n",
       " ('Sao Paulo', 51723.26),\n",
       " ('Sao Paulo', 37441.29),\n",
       " ('Sao Paulo', 36047.78),\n",
       " ('Sao Paulo', 43350.11),\n",
       " ('Sao Paulo', 70970.4),\n",
       " ('Sao Paulo', 60684.5),\n",
       " ('Sao Paulo', 53551.35),\n",
       " ('Sao Paulo', 49996.31),\n",
       " ('Sao Paulo', 40215.63),\n",
       " ('Sao Paulo', 40651.96),\n",
       " ('Sao Paulo', 36764.34),\n",
       " ('Sao Paulo', 77183.21),\n",
       " ('Sao Paulo', 54715.85),\n",
       " ('Sao Paulo', 53187.07),\n",
       " ('Sao Paulo', 47336.0),\n",
       " ('Sao Paulo', 40191.18),\n",
       " ('Sao Paulo', 37239.32),\n",
       " ('Sao Paulo', 42073.5),\n",
       " ('Sao Paulo', 74931.82),\n",
       " ('Sao Paulo', 59999.18),\n",
       " ('Sao Paulo', 60529.83),\n",
       " ('Sao Paulo', 41815.66),\n",
       " ('Sao Paulo', 38555.45),\n",
       " ('Sao Paulo', 36903.19),\n",
       " ('Sao Paulo', 45524.73),\n",
       " ('Sao Paulo', 73226.25),\n",
       " ('Sao Paulo', 60304.39),\n",
       " ('Sao Paulo', 54402.95),\n",
       " ('Sao Paulo', 44598.74),\n",
       " ('Sao Paulo', 38866.66),\n",
       " ('Sao Paulo', 33876.67),\n",
       " ('Sao Paulo', 44317.45),\n",
       " ('Sao Paulo', 72118.87),\n",
       " ('Sao Paulo', 55372.82),\n",
       " ('Sao Paulo', 49968.84),\n",
       " ('Sao Paulo', 47742.26),\n",
       " ('Sao Paulo', 41923.55),\n",
       " ('Sao Paulo', 39563.5),\n",
       " ('Sao Paulo', 44995.01),\n",
       " ('Sao Paulo', 75225.14),\n",
       " ('Sao Paulo', 60924.65),\n",
       " ('Sao Paulo', 55983.86),\n",
       " ('Sao Paulo', 44679.04),\n",
       " ('Sao Paulo', 39009.45),\n",
       " ('Sao Paulo', 31036.74),\n",
       " ('Sao Paulo', 43313.91),\n",
       " ('Sao Paulo', 74867.8),\n",
       " ('Sao Paulo', 60939.73),\n",
       " ('Sao Paulo', 59576.59),\n",
       " ('Sao Paulo', 46175.68),\n",
       " ('Sao Paulo', 39398.3),\n",
       " ('Sao Paulo', 39749.5),\n",
       " ('Sao Paulo', 41664.71),\n",
       " ('Sao Paulo', 75914.24),\n",
       " ('Sao Paulo', 57093.28),\n",
       " ('Sao Paulo', 60471.22),\n",
       " ('Sao Paulo', 43205.22),\n",
       " ('Sao Paulo', 36552.14),\n",
       " ('Sao Paulo', 39912.36),\n",
       " ('Sao Paulo', 45162.25),\n",
       " ('Sao Paulo', 77070.55),\n",
       " ('Sao Paulo', 61356.62),\n",
       " ('Sao Paulo', 58027.02),\n",
       " ('Sao Paulo', 43880.32),\n",
       " ('Sao Paulo', 39318.13),\n",
       " ('Sao Paulo', 38541.05),\n",
       " ('Sao Paulo', 41921.74),\n",
       " ('Sao Paulo', 78152.17),\n",
       " ('Sao Paulo', 58759.79),\n",
       " ('Sao Paulo', 53798.39),\n",
       " ('Sao Paulo', 45782.27),\n",
       " ('Sao Paulo', 37806.1),\n",
       " ('Sao Paulo', 38655.57),\n",
       " ('Sao Paulo', 41296.34),\n",
       " ('Sao Paulo', 78668.28),\n",
       " ('Sao Paulo', 59042.36),\n",
       " ('Sao Paulo', 57028.51),\n",
       " ('Sao Paulo', 43419.2),\n",
       " ('Sao Paulo', 41642.92),\n",
       " ('Sao Paulo', 37496.96),\n",
       " ('Sao Paulo', 44020.86),\n",
       " ('Sao Paulo', 75715.27),\n",
       " ('Sao Paulo', 59586.0),\n",
       " ('Sao Paulo', 55005.31),\n",
       " ('Sao Paulo', 44874.88),\n",
       " ('Sao Paulo', 39752.94),\n",
       " ('Sao Paulo', 36359.17),\n",
       " ('Sao Paulo', 40587.45),\n",
       " ('Sao Paulo', 70209.0),\n",
       " ('Sao Paulo', 62562.99),\n",
       " ('Sao Paulo', 59342.54),\n",
       " ('Sao Paulo', 47565.87),\n",
       " ('Sao Paulo', 39097.73),\n",
       " ('Sao Paulo', 35944.68),\n",
       " ('Sao Paulo', 40534.01),\n",
       " ('Sao Paulo', 75649.8),\n",
       " ('Sao Paulo', 60104.61),\n",
       " ('Sao Paulo', 59122.94),\n",
       " ('Sao Paulo', 50232.77),\n",
       " ('Sao Paulo', 37533.71),\n",
       " ('Sao Paulo', 38411.26),\n",
       " ('Sao Paulo', 46304.9),\n",
       " ('Sao Paulo', 73482.19),\n",
       " ('Sao Paulo', 62396.39),\n",
       " ('Sao Paulo', 51046.68),\n",
       " ('Sao Paulo', 51443.65),\n",
       " ('Sao Paulo', 39620.68),\n",
       " ('Sao Paulo', 37821.88),\n",
       " ('Sao Paulo', 44468.84),\n",
       " ('Sao Paulo', 77287.68),\n",
       " ('Sao Paulo', 59416.17),\n",
       " ('Sao Paulo', 55433.84),\n",
       " ('Sao Paulo', 49913.62),\n",
       " ('Sao Paulo', 33929.44),\n",
       " ('Sao Paulo', 40067.32),\n",
       " ('Sao Paulo', 43834.15),\n",
       " ('Sao Paulo', 77738.88),\n",
       " ('Sao Paulo', 58340.46),\n",
       " ('Sao Paulo', 58853.45),\n",
       " ('Sao Paulo', 47530.31),\n",
       " ('Sao Paulo', 37266.0),\n",
       " ('Sao Paulo', 37804.81),\n",
       " ('Sao Paulo', 41409.34),\n",
       " ('Sao Paulo', 73417.92),\n",
       " ('Sao Paulo', 58273.4),\n",
       " ('Sao Paulo', 58255.42),\n",
       " ('Sao Paulo', 53891.0),\n",
       " ('Sao Paulo', 37998.83),\n",
       " ('Sao Paulo', 40775.23),\n",
       " ('Sao Paulo', 42538.03),\n",
       " ('Sao Paulo', 74679.68),\n",
       " ('Sao Paulo', 61811.54),\n",
       " ('Sao Paulo', 59209.29),\n",
       " ('Sao Paulo', 48916.34),\n",
       " ('Sao Paulo', 38198.77),\n",
       " ('Sao Paulo', 40411.9),\n",
       " ('Sao Paulo', 44252.3),\n",
       " ('Sao Paulo', 71877.52),\n",
       " ('Sao Paulo', 60870.88),\n",
       " ('Sao Paulo', 61999.1),\n",
       " ('Sao Paulo', 46793.96),\n",
       " ('Sao Paulo', 41126.47),\n",
       " ('Sao Paulo', 37174.53),\n",
       " ('Sao Paulo', 45051.59),\n",
       " ('Sao Paulo', 76222.72),\n",
       " ('Sao Paulo', 57701.82),\n",
       " ('Sao Paulo', 58206.91),\n",
       " ('Sao Paulo', 47489.79),\n",
       " ('Sao Paulo', 42278.64),\n",
       " ('Sao Paulo', 37167.97),\n",
       " ('Sao Paulo', 41541.04),\n",
       " ('Sao Paulo', 78252.54),\n",
       " ('Sao Paulo', 62428.38),\n",
       " ('Sao Paulo', 61590.21),\n",
       " ('Sao Paulo', 47810.12),\n",
       " ('Sao Paulo', 37821.37),\n",
       " ('Sao Paulo', 38669.71),\n",
       " ('Sao Paulo', 44628.21),\n",
       " ('Sao Paulo', 76923.35),\n",
       " ('Sao Paulo', 65211.34),\n",
       " ('Sao Paulo', 60639.38),\n",
       " ('Sao Paulo', 46641.82),\n",
       " ('Sao Paulo', 40152.02),\n",
       " ('Sao Paulo', 37932.19),\n",
       " ('Sao Paulo', 46142.7),\n",
       " ('Sao Paulo', 73688.12),\n",
       " ('Sao Paulo', 62944.19),\n",
       " ('Sao Paulo', 60924.66),\n",
       " ('Sao Paulo', 51405.92),\n",
       " ('Sao Paulo', 34796.41),\n",
       " ('Sao Paulo', 39678.5),\n",
       " ('Sao Paulo', 44404.84),\n",
       " ('Sao Paulo', 80874.07),\n",
       " ('Sao Paulo', 65674.96),\n",
       " ('Sao Paulo', 62499.75),\n",
       " ('Sao Paulo', 47814.93),\n",
       " ('Sao Paulo', 41343.79),\n",
       " ('Sao Paulo', 40465.32),\n",
       " ('Sao Paulo', 46922.53),\n",
       " ('Sao Paulo', 73928.59),\n",
       " ('Sao Paulo', 59042.87),\n",
       " ('Sao Paulo', 59349.6),\n",
       " ('Sao Paulo', 49933.96),\n",
       " ('Sao Paulo', 39260.59),\n",
       " ('Sao Paulo', 41323.6),\n",
       " ('Sao Paulo', 48297.12),\n",
       " ('Sao Paulo', 79828.84),\n",
       " ('Sao Paulo', 60341.65),\n",
       " ('Sao Paulo', 58211.57),\n",
       " ('Sao Paulo', 46369.14),\n",
       " ('Sao Paulo', 42145.74),\n",
       " ('Sao Paulo', 37135.31),\n",
       " ('Sao Paulo', 58990.21),\n",
       " ('Sao Paulo', 60166.4),\n",
       " ('Sao Paulo', 51277.44),\n",
       " ('Sao Paulo', 40306.6),\n",
       " ('Sao Paulo', 37517.29),\n",
       " ('Sao Paulo', 44080.38),\n",
       " ('Sao Paulo', 80961.69),\n",
       " ('Sao Paulo', 64100.28),\n",
       " ('Sao Paulo', 60380.52),\n",
       " ('Sao Paulo', 48412.77),\n",
       " ('Sao Paulo', 39784.99),\n",
       " ('Sao Paulo', 42359.39),\n",
       " ('Sao Paulo', 45814.15),\n",
       " ('Sao Paulo', 75956.89),\n",
       " ('Sao Paulo', 63830.61),\n",
       " ('Sao Paulo', 62796.71),\n",
       " ('Sao Paulo', 49146.09),\n",
       " ('Sao Paulo', 40241.23),\n",
       " ('Sao Paulo', 37579.87),\n",
       " ('Sao Paulo', 48835.5),\n",
       " ('Sao Paulo', 80807.11),\n",
       " ('Sao Paulo', 60347.12),\n",
       " ('Sao Paulo', 61598.56),\n",
       " ('Sao Paulo', 46401.39),\n",
       " ('Sao Paulo', 40994.29),\n",
       " ('Sao Paulo', 39324.48),\n",
       " ('Sao Paulo', 46146.75),\n",
       " ('Sao Paulo', 84891.81),\n",
       " ('Sao Paulo', 63423.74),\n",
       " ('Sao Paulo', 62550.59),\n",
       " ('Sao Paulo', 48635.39),\n",
       " ('Sao Paulo', 43709.36),\n",
       " ('Sao Paulo', 40722.9),\n",
       " ('Sao Paulo', 45968.88),\n",
       " ('Sao Paulo', 78742.6),\n",
       " ('Sao Paulo', 70444.35),\n",
       " ('Sao Paulo', 62701.51),\n",
       " ('Sao Paulo', 48189.39),\n",
       " ('Sao Paulo', 41507.15),\n",
       " ('Sao Paulo', 40802.42),\n",
       " ('Sao Paulo', 45431.68),\n",
       " ('Sao Paulo', 77980.9),\n",
       " ('Sao Paulo', 69306.68),\n",
       " ('Sao Paulo', 62087.81),\n",
       " ('Sao Paulo', 49012.69),\n",
       " ('Sao Paulo', 39898.51),\n",
       " ('Sao Paulo', 34981.41),\n",
       " ('Sao Paulo', 44119.09),\n",
       " ('Sao Paulo', 76258.16),\n",
       " ('Sao Paulo', 66986.32),\n",
       " ('Sao Paulo', 56021.89),\n",
       " ('Sao Paulo', 52450.82),\n",
       " ('Sao Paulo', 39401.96),\n",
       " ('Sao Paulo', 39645.59),\n",
       " ('Sao Paulo', 48526.22),\n",
       " ('Sao Paulo', 85239.18),\n",
       " ('Sao Paulo', 64341.97),\n",
       " ('Sao Paulo', 66610.53),\n",
       " ('Sao Paulo', 51602.49),\n",
       " ('Sao Paulo', 42554.22),\n",
       " ('Sao Paulo', 40302.68),\n",
       " ('Sao Paulo', 50505.84),\n",
       " ('Sao Paulo', 76338.81),\n",
       " ('Sao Paulo', 69127.64),\n",
       " ('Sao Paulo', 61217.44),\n",
       " ('Sao Paulo', 48896.45),\n",
       " ('Sao Paulo', 41839.89),\n",
       " ('Sao Paulo', 43342.52),\n",
       " ('Sao Paulo', 42652.82),\n",
       " ('Sao Paulo', 80780.3),\n",
       " ('Sao Paulo', 68290.38),\n",
       " ('Sao Paulo', 57516.37),\n",
       " ('Sao Paulo', 53636.12),\n",
       " ('Sao Paulo', 38532.73),\n",
       " ('Sao Paulo', 42290.39),\n",
       " ('Sao Paulo', 47683.47),\n",
       " ('Sao Paulo', 76472.06),\n",
       " ('Sao Paulo', 64268.45),\n",
       " ('Sao Paulo', 61663.0),\n",
       " ('Sao Paulo', 47721.93),\n",
       " ('Sao Paulo', 43842.81),\n",
       " ('Sao Paulo', 38183.48),\n",
       " ('Sao Paulo', 46061.74),\n",
       " ('Sao Paulo', 86032.58),\n",
       " ('Sao Paulo', 62106.81),\n",
       " ('Sao Paulo', 65568.98),\n",
       " ('Sao Paulo', 52139.47),\n",
       " ('Sao Paulo', 42212.21),\n",
       " ('Sao Paulo', 38718.88),\n",
       " ('Sao Paulo', 44941.05),\n",
       " ('Sao Paulo', 73819.7),\n",
       " ('Sao Paulo', 65545.22),\n",
       " ('Sao Paulo', 64672.25),\n",
       " ('Sao Paulo', 53647.07),\n",
       " ('Sao Paulo', 44712.52),\n",
       " ('Sao Paulo', 41145.53),\n",
       " ('Sao Paulo', 47345.22),\n",
       " ('Sao Paulo', 75156.83),\n",
       " ('Sao Paulo', 67455.99),\n",
       " ('Sao Paulo', 64854.95),\n",
       " ('Sao Paulo', 49218.33),\n",
       " ('Sao Paulo', 43362.87),\n",
       " ('Sao Paulo', 40723.04),\n",
       " ('Sao Paulo', 48400.16),\n",
       " ('Sao Paulo', 84933.89),\n",
       " ('Sao Paulo', 64418.76),\n",
       " ('Sao Paulo', 54978.11),\n",
       " ('Sao Paulo', 51119.77),\n",
       " ('Sao Paulo', 41419.25),\n",
       " ('Sao Paulo', 40314.5),\n",
       " ('Sao Paulo', 45890.66),\n",
       " ('Sao Paulo', 82689.71),\n",
       " ('Sao Paulo', 68583.71),\n",
       " ('Sao Paulo', 63157.25),\n",
       " ('Sao Paulo', 49889.21),\n",
       " ('Sao Paulo', 44583.17),\n",
       " ('Sao Paulo', 42250.28),\n",
       " ('Sao Paulo', 47985.46),\n",
       " ('Sao Paulo', 72319.35),\n",
       " ('Sao Paulo', 64511.68),\n",
       " ('Sao Paulo', 66882.07),\n",
       " ('Sao Paulo', 49720.98),\n",
       " ('Sao Paulo', 38991.11),\n",
       " ('Sao Paulo', 40659.97),\n",
       " ('Sao Paulo', 46966.04),\n",
       " ('Sao Paulo', 91505.89),\n",
       " ('Sao Paulo', 64622.64),\n",
       " ('Sao Paulo', 63161.53),\n",
       " ('Sao Paulo', 50529.27),\n",
       " ('Sao Paulo', 41683.37),\n",
       " ('Sao Paulo', 41103.05),\n",
       " ('Sao Paulo', 48035.78),\n",
       " ('Sao Paulo', 79781.61),\n",
       " ('Sao Paulo', 61450.07),\n",
       " ('Sao Paulo', 61391.99),\n",
       " ('Sao Paulo', 53562.59),\n",
       " ('Sao Paulo', 44784.27),\n",
       " ('Sao Paulo', 42295.44),\n",
       " ('Sao Paulo', 46737.56),\n",
       " ('Sao Paulo', 84321.78),\n",
       " ('Sao Paulo', 62969.59),\n",
       " ('Sao Paulo', 64076.23),\n",
       " ('Sao Paulo', 48004.57),\n",
       " ('Sao Paulo', 43071.06),\n",
       " ('Sao Paulo', 41020.75),\n",
       " ('Sao Paulo', 45343.18),\n",
       " ('Sao Paulo', 81950.32),\n",
       " ('Sao Paulo', 70841.92),\n",
       " ('Sao Paulo', 60472.05),\n",
       " ('Sao Paulo', 49245.29),\n",
       " ('Sao Paulo', 40452.38),\n",
       " ('Sao Paulo', 42243.04),\n",
       " ('Sao Paulo', 46558.3),\n",
       " ('Sao Paulo', 84077.43),\n",
       " ('Sao Paulo', 68778.68),\n",
       " ('Sao Paulo', 60498.15),\n",
       " ('Sao Paulo', 50610.12),\n",
       " ('Sao Paulo', 43659.67),\n",
       " ('Sao Paulo', 42180.37),\n",
       " ('Sao Paulo', 47394.3),\n",
       " ('Sao Paulo', 82371.55),\n",
       " ('Sao Paulo', 62576.11),\n",
       " ('Sao Paulo', 59674.53),\n",
       " ('Sao Paulo', 54428.68),\n",
       " ('Sao Paulo', 42467.8),\n",
       " ('Sao Paulo', 40448.15),\n",
       " ('Sao Paulo', 49856.71),\n",
       " ('Sao Paulo', 76294.99),\n",
       " ('Sao Paulo', 65778.81),\n",
       " ('Sao Paulo', 65566.55),\n",
       " ('Sao Paulo', 55681.02),\n",
       " ('Sao Paulo', 42131.45),\n",
       " ('Sao Paulo', 45270.11),\n",
       " ...)"
      ]
     },
     "execution_count": 63,
     "metadata": {},
     "output_type": "execute_result"
    }
   ],
   "source": [
    "cursor.execute(\"SELECT data_store_cad.STORE_NAME, SALES_VALUE FROM data_store_sales INNER JOIN data_store_cad ON data_store_cad.store_code = data_store_sales.store_code\")\n",
    "cursor.fetchall()"
   ]
  },
  {
   "cell_type": "code",
   "execution_count": 64,
   "metadata": {},
   "outputs": [
    {
     "data": {
      "text/plain": [
       "(('Hong Kong', '2019-12-11', 117868.78),)"
      ]
     },
     "execution_count": 64,
     "metadata": {},
     "output_type": "execute_result"
    }
   ],
   "source": [
    "#Finally^^\n",
    "cursor.execute(\"SELECT data_store_cad.STORE_NAME, date, SALES_VALUE FROM data_store_sales INNER JOIN data_store_cad ON data_store_cad.store_code = data_store_sales.store_code order by SALES_VALUE desc limit 1\")\n",
    "cursor.fetchall()"
   ]
  },
  {
   "cell_type": "markdown",
   "metadata": {},
   "source": [
    "* ## 6.1 When did the worst sales period occur? In which store? "
   ]
  },
  {
   "cell_type": "code",
   "execution_count": 56,
   "metadata": {},
   "outputs": [
    {
     "data": {
      "text/plain": [
       "(('Tokio', '2015-11-23', 26211.36),)"
      ]
     },
     "execution_count": 56,
     "metadata": {},
     "output_type": "execute_result"
    }
   ],
   "source": [
    "cursor.execute(\"SELECT data_store_cad.STORE_NAME, date, SALES_VALUE FROM data_store_sales INNER JOIN data_store_cad ON data_store_cad.store_code = data_store_sales.store_code order by SALES_VALUE asc limit 1\")\n",
    "cursor.fetchall()"
   ]
  },
  {
   "cell_type": "markdown",
   "metadata": {},
   "source": [
    "* ## 6.2 What is the average sales value in these stores, in the respective year?"
   ]
  },
  {
   "cell_type": "code",
   "execution_count": 91,
   "metadata": {},
   "outputs": [
    {
     "data": {
      "text/plain": [
       "3660"
      ]
     },
     "execution_count": 91,
     "metadata": {},
     "output_type": "execute_result"
    }
   ],
   "source": [
    "cursor.execute(\"SELECT data_store_cad.STORE_NAME, SALES_VALUE FROM data_store_sales INNER JOIN data_store_cad ON data_store_cad.STORE_NAME = 'Tokio' WHERE date BETWEEN '2015-11-23' and '2016-11-23'\")\n",
    "len(cursor.fetchall())"
   ]
  },
  {
   "cell_type": "code",
   "execution_count": 86,
   "metadata": {},
   "outputs": [
    {
     "data": {
      "text/plain": [
       "('Tokio', 41595.370019125694)"
      ]
     },
     "execution_count": 86,
     "metadata": {},
     "output_type": "execute_result"
    }
   ],
   "source": [
    "#Avg sales value from Tokio\n",
    "cursor.execute(\"SELECT data_store_cad.STORE_NAME, AVG(SALES_VALUE) FROM data_store_sales INNER JOIN data_store_cad ON data_store_cad.STORE_NAME = 'Tokio' WHERE date BETWEEN '2015-11-23' and '2016-11-23'\")\n",
    "cursor.fetchone()"
   ]
  },
  {
   "cell_type": "code",
   "execution_count": 90,
   "metadata": {},
   "outputs": [
    {
     "data": {
      "text/plain": [
       "3650"
      ]
     },
     "execution_count": 90,
     "metadata": {},
     "output_type": "execute_result"
    }
   ],
   "source": [
    "#Avg sales value from Hong Kong\n",
    "cursor.execute(\"SELECT data_store_cad.STORE_NAME, SALES_VALUE FROM data_store_sales INNER JOIN data_store_cad ON data_store_cad.STORE_NAME = 'Hong Kong' WHERE date BETWEEN '2018-12-11 00:00:00' and '2019-12-11 00:00:00'\")\n",
    "len(cursor.fetchall())\n"
   ]
  },
  {
   "cell_type": "code",
   "execution_count": 89,
   "metadata": {},
   "outputs": [
    {
     "data": {
      "text/plain": [
       "('Hong Kong', 64733.22894520565)"
      ]
     },
     "execution_count": 89,
     "metadata": {},
     "output_type": "execute_result"
    }
   ],
   "source": [
    "#Avg sales value from Hong Kong\n",
    "cursor.execute(\"SELECT data_store_cad.STORE_NAME, AVG(SALES_VALUE) FROM data_store_sales INNER JOIN data_store_cad ON data_store_cad.STORE_NAME = 'Hong Kong' WHERE date BETWEEN '2018-12-11 00:00:00' and '2019-12-11 00:00:00'\")\n",
    "cursor.fetchone()"
   ]
  }
 ],
 "metadata": {
  "kernelspec": {
   "display_name": "Python 3",
   "language": "python",
   "name": "python3"
  },
  "language_info": {
   "codemirror_mode": {
    "name": "ipython",
    "version": 3
   },
   "file_extension": ".py",
   "mimetype": "text/x-python",
   "name": "python",
   "nbconvert_exporter": "python",
   "pygments_lexer": "ipython3",
   "version": "3.7.0"
  }
 },
 "nbformat": 4,
 "nbformat_minor": 4
}
